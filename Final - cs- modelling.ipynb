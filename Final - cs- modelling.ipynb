{
 "cells": [
  {
   "cell_type": "code",
   "execution_count": 26,
   "metadata": {
    "_cell_guid": "b1076dfc-b9ad-4769-8c92-a6c4dae69d19",
    "_uuid": "8f2839f25d086af736a60e9eeb907d3b93b6e0e5"
   },
   "outputs": [
    {
     "name": "stdout",
     "output_type": "stream",
     "text": [
      "/kaggle/input/train-dataset/train.csv\n",
      "/kaggle/input/train-dataset/test.csv\n",
      "/kaggle/input/submission/sample_submission.csv\n",
      "/kaggle/input/model-save/Model_Save.txt\n",
      "/kaggle/input/test-orig/test.csv\n"
     ]
    }
   ],
   "source": [
    "# This Python 3 environment comes with many helpful analytics libraries installed\n",
    "# It is defined by the kaggle/python Docker image: https://github.com/kaggle/docker-python\n",
    "# For example, here's several helpful packages to load\n",
    "\n",
    "import numpy as np # linear algebra\n",
    "import pandas as pd # data processing, CSV file I/O (e.g. pd.read_csv)\n",
    "\n",
    "# Input data files are available in the read-only \"../input/\" directory\n",
    "# For example, running this (by clicking run or pressing Shift+Enter) will list all files under the input directory\n",
    "\n",
    "import os\n",
    "for dirname, _, filenames in os.walk('/kaggle/input'):\n",
    "    for filename in filenames:\n",
    "        print(os.path.join(dirname, filename))\n",
    "\n",
    "# You can write up to 5GB to the current directory (/kaggle/working/) that gets preserved as output when you create a version using \"Save & Run All\" \n",
    "# You can also write temporary files to /kaggle/temp/, but they won't be saved outside of the current session"
   ]
  },
  {
   "cell_type": "markdown",
   "metadata": {},
   "source": [
    "## Importing All Modeules that we need"
   ]
  },
  {
   "cell_type": "code",
   "execution_count": 1,
   "metadata": {
    "_cell_guid": "79c7e3d0-c299-4dcb-8224-4455121ee9b0",
    "_uuid": "d629ff2d2480ee46fbb7e2d37f6b5fab8052498a"
   },
   "outputs": [],
   "source": [
    "import pandas as pd\n",
    "import numpy as np\n",
    "import matplotlib.pyplot as plt\n",
    "from sklearn.linear_model import LogisticRegression\n",
    "from sklearn.ensemble import RandomForestClassifier\n",
    "from sklearn.metrics import roc_auc_score as AUC\n",
    "from sklearn.metrics import mean_absolute_error\n",
    "from sklearn.decomposition import PCA\n",
    "from sklearn.preprocessing import LabelEncoder, LabelBinarizer\n",
    "\n",
    "from scipy import stats\n",
    "import seaborn as sns\n",
    "from copy import deepcopy\n",
    "\n",
    "%matplotlib inline\n",
    "\n",
    "\n",
    "import xgboost as xgb\n",
    "import pickle\n",
    "import sys\n",
    "from sklearn.metrics import mean_absolute_error, make_scorer\n",
    "from sklearn.preprocessing import StandardScaler\n",
    "from scipy.sparse import csr_matrix, hstack\n",
    "from xgboost import XGBRegressor\n",
    "from sklearn.model_selection import GridSearchCV \n",
    "\n",
    "import warnings\n",
    "warnings.filterwarnings('ignore')\n",
    "\n",
    "%matplotlib inline\n",
    "\n",
    "from sklearn.linear_model import LinearRegression\n",
    "from sklearn.linear_model import Ridge\n",
    "from sklearn.linear_model import Lasso\n",
    "from sklearn.linear_model import ElasticNet\n",
    "from sklearn.neighbors import KNeighborsRegressor\n",
    "from sklearn.tree import DecisionTreeRegressor\n",
    "from sklearn.ensemble import BaggingRegressor\n",
    "from sklearn.tree import DecisionTreeRegressor\n",
    "from sklearn.ensemble import RandomForestRegressor\n",
    "from sklearn.ensemble import AdaBoostRegressor\n",
    "from sklearn.ensemble import GradientBoostingRegressor\n",
    "from xgboost import XGBRegressor\n",
    "from sklearn.model_selection import train_test_split\n",
    "from sklearn.metrics import mean_squared_error,mean_absolute_error"
   ]
  },
  {
   "cell_type": "markdown",
   "metadata": {},
   "source": [
    "## Loading Data\n",
    "* We loaded the data into train_data and test_data\n",
    "* seperated feature names , categorical feature names and continous feature names.\n",
    "* Done label encoding.\n",
    "* Added a feature which is a log transformation with some shift on loss feature. Why this should be done is explained in the EDA part of the code.\n",
    "* seperated x_train and y_train"
   ]
  },
  {
   "cell_type": "code",
   "execution_count": 2,
   "metadata": {},
   "outputs": [
    {
     "name": "stdout",
     "output_type": "stream",
     "text": [
      "Loadind data from csv files.....\n",
      "shape of train data : (188318, 132)\n",
      "shape of test data : (125546, 131)\n",
      "Joining complete....\n",
      "shape of combined data: (313864, 132)\n",
      "Total number of categorical features in data are : 116\n",
      "Features that have diff unique values in train and test are :\n",
      "['cat90', 'cat92', 'cat96', 'cat99', 'cat101', 'cat102', 'cat103', 'cat105', 'cat106', 'cat109', 'cat110', 'cat113', 'cat114', 'cat116']\n"
     ]
    }
   ],
   "source": [
    "print('Loadind data from csv files.....')\n",
    "train_data = pd.read_csv('../input/train-dataset/train.csv')\n",
    "test_data  = pd.read_csv('../input/test-orig/test.csv')\n",
    "print('shape of train data :',train_data.shape)\n",
    "print('shape of test data :',test_data.shape)\n",
    "\n",
    "\n",
    "test_data['loss'] = np.nan\n",
    "combined_data = pd.concat([train_data, test_data])\n",
    "print('Joining complete....')\n",
    "print('shape of combined data:',combined_data.shape)\n",
    "\n",
    "\n",
    "categorical_features = list(train_data.select_dtypes(include = ['object']).columns)\n",
    "print('Total number of categorical features in data are :', len(categorical_features))\n",
    "\n",
    "no_common = []\n",
    "for i in categorical_features:\n",
    "    if train_data[i].nunique() != test_data[i].nunique():\n",
    "        no_common.append(i)\n",
    "print('Features that have diff unique values in train and test are :')\n",
    "print(no_common)"
   ]
  },
  {
   "cell_type": "code",
   "execution_count": 13,
   "metadata": {},
   "outputs": [],
   "source": [
    "def log_xgboost_eval_mae(pred,dtrain):\n",
    "    labels = dtrain.get_label()\n",
    "    a = mean_absolute_error(np.exp(pred),np.exp(labels))\n",
    "    return 'mae',a\n",
    "\n",
    "def search_feature(x):\n",
    "    if x in combined_remaining:\n",
    "        return np.nan\n",
    "    return \n",
    "\n",
    "#Reference https://www.geeksforgeeks.org/python-pandas-factorize/\n",
    "#Reference https://stackoverflow.com/questions/13331698/how-to-apply-a-function-to-two-columns-of-pandas-dataframe\n",
    "\n",
    "for i in categorical_features:\n",
    "    if train_data[i].nunique() != test_data[i].nunique():\n",
    "        train_unique_set = set(train_data[i].unique())\n",
    "        test_unique_set  = set(test_data[i].unique())\n",
    "        remaining_train  = train_unique_set - test_unique_set\n",
    "        remaining_test   = test_unique_set - train_unique_set\n",
    "        \n",
    "        combined_remaining = remaining_train.union(remaining_test)\n",
    "        \n",
    "        combined_data[i] = combined_data[i].apply(lambda x: search_feature(x),1)\n",
    "    combined_data[i] = pd.factorize(combined_data[i].values,sort = True)[0]"
   ]
  },
  {
   "cell_type": "markdown",
   "metadata": {},
   "source": [
    "## How i handled categrocal features having diff unique values in train and test data\n",
    "* I created an array which consists of unique values for a particual feature that are either in train or test data but not in both.\n",
    "* function search_feature returns a variable if it should not be removed and returns nan if it should be removed.\n",
    "* After applying search feature for a column, it returns ctegorical variables and NAN values\n",
    "* after that i used pandas factorize feature which returns and replaces all categorical variables by integers and NAN by -1. "
   ]
  },
  {
   "cell_type": "markdown",
   "metadata": {},
   "source": [
    "## Making data model ready."
   ]
  },
  {
   "cell_type": "code",
   "execution_count": 14,
   "metadata": {},
   "outputs": [
    {
     "name": "stdout",
     "output_type": "stream",
     "text": [
      "(188318, 130)\n",
      "(125546, 130)\n"
     ]
    }
   ],
   "source": [
    "x_train = combined_data[combined_data['loss'].notnull()]\n",
    "x_test = combined_data[combined_data['loss'].isnull()]\n",
    "\n",
    "shift = 200\n",
    "y_train = np.log(x_train['loss']+shift)\n",
    "x_train = x_train.drop(['loss','id'],axis = 1)\n",
    "x_test  = x_test.drop(['loss','id'],axis = 1)\n",
    "\n",
    "print(x_train.shape)\n",
    "print(x_test.shape)"
   ]
  },
  {
   "cell_type": "markdown",
   "metadata": {},
   "source": [
    "## A function to run multiple regression models\n",
    "* Why is the need to this?\n",
    "\n",
    "* As this is a regression analysis,i wanted to apply multiple types of regression techniques that are mentioned below.\n",
    "* Apply regression models without any hyperparamter tuning.\n",
    "* once the models are completed , will check a score on cv dataset on which will give less error.\n",
    "* Than will choose that as a primary regression model for out final model."
   ]
  },
  {
   "cell_type": "code",
   "execution_count": 4,
   "metadata": {},
   "outputs": [],
   "source": [
    "def run_models(x_train,y_train,x_cv,y_cv):\n",
    "    model_xgb = XGBRegressor()\n",
    "    model_adb = AdaBoostRegressor()\n",
    "    model_rf  = RandomForestRegressor()\n",
    "    model_gbd = GradientBoostingRegressor()\n",
    "    model_knn = KNeighborsRegressor()\n",
    "    model_eln = ElasticNet()\n",
    "    model_las = Lasso()\n",
    "    model_rid = Ridge()\n",
    "    model_lr  = LinearRegression()\n",
    "    model_dt  = DecisionTreeRegressor()\n",
    "    \n",
    "    models = [model_xgb,model_adb,model_rf,model_gbd,model_knn,model_eln,model_las,model_rid,model_lr,model_dt]\n",
    "    model_dict = {}\n",
    "    \n",
    "    for i in models:\n",
    "        model = i\n",
    "        model.fit(x_train,y_train)\n",
    "        pred =  model.predict(x_cv)\n",
    "        a = mean_absolute_error(np.exp(y_cv), np.exp(pred))\n",
    "        model_dict.update({i:a})\n",
    "        \n",
    "    return model_dict"
   ]
  },
  {
   "cell_type": "markdown",
   "metadata": {},
   "source": [
    "## Splitting train data into train and cv data."
   ]
  },
  {
   "cell_type": "code",
   "execution_count": null,
   "metadata": {},
   "outputs": [],
   "source": [
    "x_train1,x_cv1,y_train1,y_cv1 = train_test_split(x_train,y_train,test_size = 0.2)\n",
    "model_dict = run_models(x_train1,y_train1,x_cv1,y_cv1)"
   ]
  },
  {
   "cell_type": "markdown",
   "metadata": {},
   "source": [
    "## Plotting histogram distribution of MAE values over all trained models."
   ]
  },
  {
   "cell_type": "code",
   "execution_count": 7,
   "metadata": {},
   "outputs": [
    {
     "data": {
      "image/png": "[encoded data removed]",
      "text/plain": [
       "<Figure size 1008x576 with 1 Axes>"
      ]
     },
     "metadata": {
      "needs_background": "light"
     },
     "output_type": "display_data"
    }
   ],
   "source": [
    "MAE_vales = model_dict.values()\n",
    "models = ['model_xgb','model_adb','model_rf','model_gbd','model_knn','model_eln','model_las','model_rid','model_lr','model_dt']\n",
    "plt.figure(figsize=(14,8))\n",
    "plt.xlabel('Models')\n",
    "plt.ylabel('MAE scores')\n",
    "plt.bar(models,MAE_vales)\n",
    "plt.show()"
   ]
  },
  {
   "cell_type": "code",
   "execution_count": 8,
   "metadata": {},
   "outputs": [
    {
     "data": {
      "image/png": "[encoded data removed]",
      "text/plain": [
       "<Figure size 1008x576 with 1 Axes>"
      ]
     },
     "metadata": {
      "needs_background": "light"
     },
     "output_type": "display_data"
    }
   ],
   "source": [
    "MAE_vales = model_dict.values()\n",
    "models = ['model_xgb','model_adb','model_rf','model_gbd','model_knn','model_eln','model_las','model_rid','model_lr','model_dt']\n",
    "plt.figure(figsize=(14,8))\n",
    "plt.ylim(800,2000)\n",
    "plt.xlabel('Models')\n",
    "plt.ylabel('MAE scores')\n",
    "plt.bar(models,MAE_vales)\n",
    "plt.title('zoomed in')\n",
    "plt.show()"
   ]
  },
  {
   "cell_type": "code",
   "execution_count": 9,
   "metadata": {},
   "outputs": [
    {
     "name": "stdout",
     "output_type": "stream",
     "text": [
      "dict_values([1158.820772507829, 1525.3463970284195, 1211.651647792013, 1210.795618910887, 1459.4503827092028, 1804.9400204491346, 1804.9400204491346, 1277.3354617593623, 1277.3570621381039, 1754.3839458074149])\n"
     ]
    }
   ],
   "source": [
    "print(MAE_vales)"
   ]
  },
  {
   "cell_type": "markdown",
   "metadata": {},
   "source": [
    "## Observations:\n",
    "* Trained different kinds of regression models without any hyperparameter tuning.\n",
    "* over all diff kinds of models some models did worse than other as our data has 130 dimenstions and not all models can do well with high dimension data.\n",
    "* Even without any hyper parameter tuning , XGBOOST gave the best MAE value on the cv data.\n",
    "* This cross validate is only for our purpose to check the model accuracy as test data that we were given doesnt have target values."
   ]
  },
  {
   "cell_type": "markdown",
   "metadata": {},
   "source": [
    "## One Hot Encoding"
   ]
  },
  {
   "cell_type": "code",
   "execution_count": 10,
   "metadata": {},
   "outputs": [
    {
     "name": "stdout",
     "output_type": "stream",
     "text": [
      "Shape of data after OHE : (188318, 1155)\n"
     ]
    }
   ],
   "source": [
    "data_ohe = pd.get_dummies(data=train_data, columns=categorical_features)\n",
    "data_ohe.reset_index(drop = True, inplace = True)\n",
    "print('Shape of data after OHE :',data_ohe.shape)\n",
    "\n",
    "x_train = data_ohe.drop(['id','loss'],axis =1)\n",
    "y_train = np.log(data_ohe['loss'])\n",
    "\n",
    "x_train_ohe,x_cv_ohe,y_train_ohe,y_cv_ohe = train_test_split(x_train,y_train,test_size = 0.2)"
   ]
  },
  {
   "cell_type": "markdown",
   "metadata": {},
   "source": [
    "## Applying XGBRegressor on OHE features.\n",
    "* Main goal here is to check which encoding works better for these kinds of features.\n",
    "* we will decide based on cv MAE score on when both encodings on XGBRegressor model."
   ]
  },
  {
   "cell_type": "code",
   "execution_count": 11,
   "metadata": {},
   "outputs": [
    {
     "name": "stdout",
     "output_type": "stream",
     "text": [
      "1165.9142026607606\n"
     ]
    }
   ],
   "source": [
    "model = XGBRegressor()\n",
    "model.fit(x_train_ohe,y_train_ohe)\n",
    "pred =  model.predict(x_cv_ohe)\n",
    "a = mean_absolute_error(np.exp(y_cv_ohe), np.exp(pred))\n",
    "print(a)"
   ]
  },
  {
   "cell_type": "markdown",
   "metadata": {},
   "source": [
    "## Observation:\n",
    "* we can see that MAE value of XGBOOSTREGRESSOR with out hyer parameter tning.\n",
    "* Label encoder data  - 1158.8207\n",
    "* OHE data - 1165.91420\n",
    "* we can say that label encoding works better than OHE"
   ]
  },
  {
   "cell_type": "markdown",
   "metadata": {},
   "source": [
    "## Hyper Parameter Tuning for XGBOOST"
   ]
  },
  {
   "cell_type": "code",
   "execution_count": 18,
   "metadata": {},
   "outputs": [
    {
     "name": "stdout",
     "output_type": "stream",
     "text": [
      "Fisrt hyper parameter tune results:{'max_depth': 10, 'min_child_weight': 1}\n",
      "Second hyper parameter tune results:{'gamma': 1, 'learning_rate': 0.1}\n",
      "Third hyper parameter tune results:{'colsample_bytree': 0.6, 'subsample': 0.8}\n",
      "***** Final Hyper Parameter Tuning *****\n",
      "Final hyper parameter tune results:{'colsample_bytree': 0.5,'subsample': 0.8,'learning_rate': 0.1,'max_depth': 12,'min_child_weight': 1,'gamma':1}\n"
     ]
    }
   ],
   "source": [
    "#  reference\n",
    "# https://www.analyticsvidhya.com/blog/2016/03/complete-guide-parameter-tuning-xgboost-with-codes-python/\n",
    "# https://blog.cambridgespark.com/hyperparameter-tuning-in-xgboost-4ff9100a3b2f\n",
    "\n",
    "param_test1 = {\n",
    " 'max_depth':range(3,15,2),\n",
    " 'min_child_weight':range(1,6,2)\n",
    "}\n",
    "clf = XGBRegressor(learning_rate =0.01, n_estimators=140, max_depth=5,\n",
    "                min_child_weight=1, gamma=0.005, subsample=0.9, colsample_bytree=0.75,\n",
    "                objective= 'reg:linear', scale_pos_weight=1, seed=0, \n",
    "                param_grid = param_test1,scoring='roc_auc',n_jobs=4,iid=False, cv=5)\n",
    "\n",
    "gsearch1 = GridSearchCV(estimator =clf,param_grid = param_test1)\n",
    "gsearch1.fit(x_train,y_train)\n",
    "\n",
    "param_test1 = {\n",
    " 'max_depth':[11,12,13),\n",
    " 'min_child_weight':range(1,3)\n",
    "}\n",
    "clf = XGBRegressor(learning_rate =0.01, n_estimators=140, max_depth=5,\n",
    "                min_child_weight=1, gamma=0.005, subsample=0.9, colsample_bytree=0.75,\n",
    "                objective= 'reg:linear', scale_pos_weight=1, seed=0, \n",
    "                param_grid = param_test1,scoring='roc_auc',n_jobs=4,iid=False, cv=5)\n",
    "\n",
    "gsearch1 = GridSearchCV(estimator =clf,param_grid = param_test1)\n",
    "gsearch1.fit(x_train,y_train)\n",
    "print('Fisrt hyper parameter tune results:',gsearch1.best_params_)\n",
    "\n",
    "\n",
    "param_test1 = {\n",
    " 'learning_rate':[0.01,0.1,0,1],\n",
    " 'gamma':[0.02,0.1,1,1.02]\n",
    "}\n",
    "\n",
    "clf = XGBRegressor(learning_rate =0.01, n_estimators=140, max_depth=5,\n",
    "                min_child_weight=1, gamma=0.005, subsample=0.9, colsample_bytree=0.75,\n",
    "                objective= 'reg:linear', scale_pos_weight=1, seed=0, \n",
    "                param_grid = param_test1,scoring='roc_auc',n_jobs=4,iid=False, cv=5)\n",
    "\n",
    "gsearch2 = GridSearchCV(estimator =clf,param_grid = param_test1)\n",
    "gsearch2.fit(x_train,y_train)\n",
    "print('Second hyper parameter tune results:',gsearch2.best_params_)\n",
    "\n",
    "\n",
    "param_test1 = {\n",
    " 'colsample_bytree': [0.5,0.6,0.7,0.75],\n",
    " 'subsample' :[0.9,0.8,0.7]\n",
    "}\n",
    "\n",
    "clf = XGBRegressor(learning_rate =0.01, n_estimators=140, max_depth=5,\n",
    "                min_child_weight=1, gamma=0.005, subsample=0.9, colsample_bytree=0.75,\n",
    "                objective= 'reg:linear', scale_pos_weight=1, seed=0, \n",
    "                param_grid = param_test1,scoring='roc_auc',n_jobs=4,iid=False, cv=5)\n",
    "\n",
    "gsearch3 = GridSearchCV(estimator =clf,param_grid = param_test1)\n",
    "gsearch3.fit(x_train,y_train)\n",
    "print('Third hyper parameter tune results:',gsearch3.best_params_)\n",
    "\n",
    "print('***** Final Hyper Parameter Tuning *****')\n",
    "\n",
    "param_test1 = {\n",
    "    'colsample_bytree': [0.4,0.5,0.6],\n",
    "    'subsample': [0.8,0.9,0.7],\n",
    "    'gamma': [0.015,0.01,0.1],\n",
    "    'learning_rate': [0.1,0.01,0.15],\n",
    "    'max_depth': [10,11,12], \n",
    "    'min_child_weight': [1,2,3]\n",
    "}\n",
    "\n",
    "clf = XGBRegressor(n_estimators=140,objective= 'reg:linear', scale_pos_weight=1, seed=0,silent =1,\n",
    "                 param_grid = param_test1,scoring='roc_auc',n_jobs=4,iid=False, cv=5,num_parallel_tree = 1)\n",
    "\n",
    "gsearch4 = GridSearchCV(estimator =clf,param_grid = param_test1)\n",
    "gsearch4.fit(x_train,y_train)\n",
    "print('Final hyper parameter tune results:',gsearch4.best_params_)"
   ]
  },
  {
   "cell_type": "markdown",
   "metadata": {},
   "source": [
    "* We tuned 2 parameters and got {'max_depth': 10, 'min_child_weight': 1}\n",
    "* We tuned 2 parameters and got {'gamma': 1, 'learning_rate': 0.1}\n",
    "* We tuned 2 parameters and got {'colsample_bytree': 0.6, 'subsample': 0.8}\n",
    "* Final hyper parameter tune results:{'colsample_bytree': 0.5,'subsample': 0.8,'learning_rate': 0.1,'max_depth': 12,'min_child_weight': 1,'gamma':1}"
   ]
  },
  {
   "cell_type": "code",
   "execution_count": 20,
   "metadata": {},
   "outputs": [
    {
     "name": "stdout",
     "output_type": "stream",
     "text": [
      "[0]\ttrain-rmse:7.26350+0.00124\ttest-rmse:7.26350+0.00503\ttrain-mae:3235.56396+4.96432\ttest-mae:3235.56401+19.85736\n",
      "[500]\ttrain-rmse:0.46110+0.00029\ttest-rmse:0.48638+0.00170\ttrain-mae:1118.87234+1.77473\ttest-mae:1179.87725+9.47952\n",
      "[1000]\ttrain-rmse:0.43163+0.00035\ttest-rmse:0.47696+0.00134\ttrain-mae:1026.26772+1.53510\ttest-mae:1141.59067+7.82845\n",
      "[1500]\ttrain-rmse:0.41921+0.00039\ttest-rmse:0.47563+0.00126\ttrain-mae:993.74723+1.49601\ttest-mae:1137.34856+7.88345\n",
      "[2000]\ttrain-rmse:0.41051+0.00038\ttest-rmse:0.47523+0.00120\ttrain-mae:971.77592+1.49968\ttest-mae:1136.02644+7.71141\n"
     ]
    }
   ],
   "source": [
    "# Finding best rounds via cross validate xgboost with 50 early stoppings.\n",
    "res = xgb.cv(params, xgtrain, num_boost_round=2500, nfold=5, stratified=False,\n",
    "         early_stopping_rounds=50, verbose_eval=500, show_stdv=True, feval=log_xgboost_eval_mae, maximize=False)\n"
   ]
  },
  {
   "cell_type": "code",
   "execution_count": 21,
   "metadata": {},
   "outputs": [
    {
     "name": "stdout",
     "output_type": "stream",
     "text": [
      "Ensemble-CV: 0.40487799999999996+0.0002799499955349193\n",
      "Best n rounds are : 2418\n"
     ]
    }
   ],
   "source": [
    "best_nrounds = res.shape[0] - 1\n",
    "cv_mean = res.iloc[-1, 0]\n",
    "cv_std = res.iloc[-1, 1]\n",
    "print('Ensemble-CV: {0}+{1}'.format(cv_mean, cv_std))\n",
    "print('Best n rounds are :',best_nrounds)"
   ]
  },
  {
   "cell_type": "markdown",
   "metadata": {},
   "source": [
    "## Training Final Model"
   ]
  },
  {
   "cell_type": "code",
   "execution_count": 22,
   "metadata": {},
   "outputs": [],
   "source": [
    "RANDOM_STATE = 2016\n",
    "params = {\n",
    "        'min_child_weight': 1,\n",
    "        'eta': 0.01,\n",
    "        'colsample_bytree': 0.5,\n",
    "        'learning_rate': 0.1,\n",
    "        'max_depth': 12,\n",
    "        'subsample': 0.8,\n",
    "        'alpha': 1,\n",
    "        'gamma': 1,\n",
    "        'silent': 1,\n",
    "        'verbose_eval': True,\n",
    "        'seed': RANDOM_STATE\n",
    "    }\n",
    "\n",
    "xgtrain = xgb.DMatrix(x_train, label=y_train)\n",
    "xgtest = xgb.DMatrix(x_test)\n",
    "\n",
    "model = xgb.train(params, xgtrain, best_nrounds, feval=log_xgboost_eval_mae)\n",
    "\n",
    "prediction = np.exp(model.predict(xgtest)) - shift\n",
    "\n",
    "sub = pd.read_csv('../input/submission/sample_submission.csv')\n",
    "sub['loss'] = prediction\n",
    "sub.to_csv('submissions1.csv', index=False)"
   ]
  },
  {
   "cell_type": "markdown",
   "metadata": {},
   "source": [
    "## Observations:\n",
    "* we modelled xgb.train with best rounds we got in cross validate xgboost.\n",
    "* once we predicted and converted to csv file we got a score of 1114.48304 , which is very close to leaderboard score at kaggle which is 1109.70772.\n",
    "* So far this is the best model that we built."
   ]
  },
  {
   "cell_type": "markdown",
   "metadata": {},
   "source": [
    "## Feature Importance.\n",
    "* importance_type\n",
    "* ‘weight’ - the number of times a feature is used to split the data across all trees.\n",
    "* ‘gain’ - the average gain across all splits the feature is used in.\n",
    "* ‘cover’ - the average coverage across all splits the feature is used in.\n",
    "* ‘total_gain’ - the total gain across all splits the feature is used in.\n",
    "* ‘total_cover’ - the total coverage across all splits the feature is used in."
   ]
  },
  {
   "cell_type": "code",
   "execution_count": 23,
   "metadata": {},
   "outputs": [
    {
     "name": "stdout",
     "output_type": "stream",
     "text": [
      "[('cat80', 162.2719000009297), ('cat12', 87.26782582080102), ('cat79', 79.60965513514314), ('cat57', 36.22010919383452), ('cat87', 30.03140810011797), ('cat81', 29.693861800894787), ('cat10', 24.879644147797677), ('cat53', 21.933176503048287), ('cat1', 19.673499734367155), ('cat44', 17.1280969359697), ('cat38', 16.446144060439853), ('cat11', 12.372713314280027), ('cat111', 11.300631667603176), ('cat13', 11.150816345742737), ('cat72', 11.056952663214664), ('cat89', 10.472847536806889), ('cat5', 9.66238212825089), ('cat2', 9.385492227500148), ('cat26', 9.033314502639739), ('cat9', 8.8588270898421), ('cat7', 8.745802133176394), ('cat25', 7.884212813852916), ('cat52', 7.610929603415244), ('cat49', 7.506278523914056), ('cat3', 6.8633412871073425), ('cat4', 6.460700377858011), ('cat37', 6.074376528546785), ('cat36', 5.475283390459903), ('cont2', 5.330136365055739), ('cat100', 5.128326088400257), ('cat6', 4.782938554946328), ('cat76', 4.761914553074233), ('cat50', 4.716160970387901), ('cat16', 4.668694864690523), ('cat31', 4.545985257465816), ('cat42', 4.194686254431111), ('cat73', 3.9990127404664686), ('cat27', 3.8757947547883065), ('cat94', 3.8281573060369283), ('cat77', 3.699425639175312), ('cat23', 3.5583700867297834), ('cat82', 2.9704369436202427), ('cont7', 2.6083438638298038), ('cat39', 2.594989753456896), ('cat32', 2.4964056302866884), ('cont14', 2.4862672220743054), ('cat8', 2.4584368957266305), ('cat75', 2.4578839577577796), ('cat88', 2.456847187166193), ('cat51', 2.4037665945765965), ('cat40', 2.3601147411231134), ('cat54', 2.1724492691789963), ('cont12', 2.1548726124065687), ('cat67', 2.138611455339621), ('cat78', 2.1275552859603355), ('cat56', 2.119092250287673), ('cat108', 2.107077452252686), ('cat71', 2.083377663484285), ('cat45', 2.0324623228757703), ('cat28', 2.0240190406499377), ('cat19', 1.9708223011388661), ('cat91', 1.8350194745999693), ('cat21', 1.8114949283019706), ('cat55', 1.7992260803458642), ('cat65', 1.7887936179105968), ('cont3', 1.7572254676754022), ('cat29', 1.7059455420620335), ('cat95', 1.704282398467205), ('cont11', 1.6903582992642767), ('cat43', 1.6562692287876462), ('cat98', 1.5992763398149132), ('cat63', 1.5878286060111113), ('cat61', 1.5735160639275005), ('cat35', 1.5389363873538464), ('cat66', 1.5364869414720206), ('cat86', 1.5248936999202132), ('cat84', 1.4741572863204697), ('cat48', 1.4724569371933958), ('cat22', 1.4594707172642853), ('cat41', 1.4570023779950732), ('cont9', 1.440752193488572), ('cat112', 1.3921757372012074), ('cat83', 1.3749906997912258), ('cat93', 1.372136627022589), ('cat59', 1.3661525163945527), ('cat17', 1.3461574711682818), ('cont1', 1.341368053357382), ('cont13', 1.3248172837463514), ('cont4', 1.3191107836741418), ('cat104', 1.3168907955584739), ('cont10', 1.3021787319268587), ('cont6', 1.296879087874962), ('cont8', 1.2959460725368623), ('cat68', 1.287792196479532), ('cat85', 1.2816822661033422), ('cat74', 1.2782863484293858), ('cat107', 1.2749540567850863), ('cat115', 1.2623486125123637), ('cat30', 1.2477331129576388), ('cat97', 1.2451623504281804), ('cont5', 1.227409877388042), ('cat14', 1.2223128290318848), ('cat18', 1.2174422131989053), ('cat33', 1.2104047777509446), ('cat58', 1.2010935745333335), ('cat24', 1.1862865853136468), ('cat60', 1.1781883534780875), ('cat46', 1.1716171955450299), ('cat69', 1.1208789612027026), ('cat34', 1.0979491698819668), ('cat47', 1.06792695978481), ('cat70', 0.9632211161666668), ('cat20', 0.9020500200852942), ('cat15', 0.8047078450999999), ('cat64', 0.6462872829999999), ('cat62', 0.5642320398666666)]\n"
     ]
    }
   ],
   "source": [
    "# reference - https://stackoverflow.com/questions/37627923/how-to-get-feature-importance-in-xgboost\n",
    "# reference - https://stackoverflow.com/questions/613183/how-do-i-sort-a-dictionary-by-value\n",
    "\n",
    "feature_imp = model.get_score(importance_type='gain')\n",
    "sorted_feature_imp = sorted(feature_imp.items(), key=lambda x: x[1],reverse=True)    \n",
    "print(sorted_feature_imp)"
   ]
  },
  {
   "cell_type": "markdown",
   "metadata": {},
   "source": [
    "## Least important features.\n"
   ]
  },
  {
   "cell_type": "code",
   "execution_count": 24,
   "metadata": {},
   "outputs": [
    {
     "name": "stdout",
     "output_type": "stream",
     "text": [
      "least important 0 feature is  cat24\n",
      "least important 1 feature is  cat60\n",
      "least important 2 feature is  cat46\n",
      "least important 3 feature is  cat69\n",
      "least important 4 feature is  cat34\n",
      "least important 5 feature is  cat47\n",
      "least important 6 feature is  cat70\n",
      "least important 7 feature is  cat20\n",
      "least important 8 feature is  cat15\n",
      "least important 9 feature is  cat64\n",
      "least important 10 feature is  cat62\n",
      "*********\n",
      "['cat24', 'cat60', 'cat46', 'cat69', 'cat34', 'cat47', 'cat70', 'cat20', 'cat15', 'cat64', 'cat62']\n"
     ]
    }
   ],
   "source": [
    "least_imp_features = []\n",
    "for i,x in enumerate(list(sorted_feature_imp)[-11:]):\n",
    "    print('least important',i,'feature is ',x[0])\n",
    "    least_imp_features.append(x[0])\n",
    "    \n",
    "print('*********')\n",
    "print(least_imp_features)"
   ]
  },
  {
   "cell_type": "markdown",
   "metadata": {},
   "source": [
    "## Observation:\n",
    "*  we can see that 'cat24', 'cat60', 'cat46', 'cat69', 'cat34', 'cat47', 'cat70', 'cat20', 'cat15', 'cat64', 'cat62' -  these are least important features for the trined model."
   ]
  },
  {
   "cell_type": "markdown",
   "metadata": {},
   "source": [
    "## Training Basic Deep learning model."
   ]
  },
  {
   "cell_type": "code",
   "execution_count": 25,
   "metadata": {},
   "outputs": [
    {
     "name": "stderr",
     "output_type": "stream",
     "text": [
      "Using TensorFlow backend.\n"
     ]
    },
    {
     "name": "stdout",
     "output_type": "stream",
     "text": [
      "Epoch 1/25\n",
      "188318/188318 [==============================] - 9s 46us/step - loss: 1.1130\n",
      "Epoch 2/25\n",
      "188318/188318 [==============================] - 8s 43us/step - loss: 0.7692\n",
      "Epoch 3/25\n",
      "188318/188318 [==============================] - 8s 43us/step - loss: 0.6917\n",
      "Epoch 4/25\n",
      "188318/188318 [==============================] - 8s 45us/step - loss: 0.6379\n",
      "Epoch 5/25\n",
      "188318/188318 [==============================] - 8s 43us/step - loss: 0.5907\n",
      "Epoch 6/25\n",
      "188318/188318 [==============================] - 8s 43us/step - loss: 0.5595\n",
      "Epoch 7/25\n",
      "188318/188318 [==============================] - 8s 43us/step - loss: 0.5392\n",
      "Epoch 8/25\n",
      "188318/188318 [==============================] - 8s 42us/step - loss: 0.5239\n",
      "Epoch 9/25\n",
      "188318/188318 [==============================] - 8s 42us/step - loss: 0.5115\n",
      "Epoch 10/25\n",
      "188318/188318 [==============================] - 8s 43us/step - loss: 0.5001\n",
      "Epoch 11/25\n",
      "188318/188318 [==============================] - 8s 45us/step - loss: 0.4895\n",
      "Epoch 12/25\n",
      "188318/188318 [==============================] - 8s 43us/step - loss: 0.4810\n",
      "Epoch 13/25\n",
      "188318/188318 [==============================] - 9s 46us/step - loss: 0.4726\n",
      "Epoch 14/25\n",
      "188318/188318 [==============================] - 9s 46us/step - loss: 0.4654\n",
      "Epoch 15/25\n",
      "188318/188318 [==============================] - 8s 42us/step - loss: 0.4583\n",
      "Epoch 16/25\n",
      "188318/188318 [==============================] - 8s 43us/step - loss: 0.4524\n",
      "Epoch 17/25\n",
      "188318/188318 [==============================] - 8s 43us/step - loss: 0.4445\n",
      "Epoch 18/25\n",
      "188318/188318 [==============================] - 8s 44us/step - loss: 0.4397\n",
      "Epoch 19/25\n",
      "188318/188318 [==============================] - 9s 46us/step - loss: 0.4344\n",
      "Epoch 20/25\n",
      "188318/188318 [==============================] - 8s 43us/step - loss: 0.4295\n",
      "Epoch 21/25\n",
      "188318/188318 [==============================] - 8s 42us/step - loss: 0.4247\n",
      "Epoch 22/25\n",
      "188318/188318 [==============================] - 8s 43us/step - loss: 0.4217\n",
      "Epoch 23/25\n",
      "188318/188318 [==============================] - 8s 43us/step - loss: 0.4182\n",
      "Epoch 24/25\n",
      "188318/188318 [==============================] - 8s 42us/step - loss: 0.4154\n",
      "Epoch 25/25\n",
      "188318/188318 [==============================] - 8s 43us/step - loss: 0.4118\n"
     ]
    }
   ],
   "source": [
    "from keras.models import Sequential\n",
    "from keras.layers import Dense, Dropout, Activation,BatchNormalization\n",
    "from keras.layers.advanced_activations import PReLU\n",
    "\n",
    "def neural_network_model(x_train):\n",
    "    model = Sequential()\n",
    "    \n",
    "    model.add(Dense(400, input_dim = x_train.shape[1], init = 'he_normal'))\n",
    "    model.add(PReLU())\n",
    "    model.add(Dropout(0.4))\n",
    "   \n",
    "    model.add(Dense(200, init = 'he_normal'))\n",
    "    model.add(PReLU())\n",
    "    model.add(Dropout(0.2))\n",
    "    \n",
    "    model.add(Dense(100, init = 'he_normal'))\n",
    "    model.add(PReLU())\n",
    "    model.add(Dropout(0.2))\n",
    "    \n",
    "    model.add(Dense(50, init = 'he_normal'))\n",
    "    model.add(PReLU())\n",
    "    model.add(Dropout(0.2))\n",
    "    \n",
    "    model.add(Dense(1, init = 'he_normal'))\n",
    "    model.compile(loss = 'mae', optimizer = 'adam')\n",
    "    return(model)\n",
    "\n",
    "\n",
    "model=neural_network_model(x_train)\n",
    "n_epochs = 25\n",
    "fit = model.fit(x_train,y_train, nb_epoch = n_epochs,batch_size=250,verbose = 1)\n",
    "p_test = np.exp(model.predict(x_test)) - 200\n",
    "sub = pd.read_csv('../input/submission/sample_submission.csv')\n",
    "sub['loss'] = p_test\n",
    "sub.to_csv('submissions2.csv', index=False)"
   ]
  },
  {
   "cell_type": "markdown",
   "metadata": {},
   "source": [
    "## Observations:\n",
    "* after submitting the csv file in kaggle we got a score of 1359.49641, which is really bad considering we got a score of around 1119 using normal xgboost.\n",
    "* there are multiple reasons i can think of why this neural network did bad.\n",
    "1. first and foremost we have to accept the fact that not every probelm needs neural networks as a solution\n",
    "1. we havent tuned our hyperparameters in neural networks, so we can increase our score after tuning our neural network,\n",
    "1. there are many possible cobinations of number of neurons in each layer, droup out rate, activations that we can use....and some other parmeters.\n",
    "1. we might increase our score after hyper parameter tuning"
   ]
  }
 ],
 "metadata": {
  "kernelspec": {
   "display_name": "Python 3",
   "language": "python",
   "name": "python3"
  },
  "language_info": {
   "codemirror_mode": {
    "name": "ipython",
    "version": 3
   },
   "file_extension": ".py",
   "mimetype": "text/x-python",
   "name": "python",
   "nbconvert_exporter": "python",
   "pygments_lexer": "ipython3",
   "version": "3.6.5"
  }
 },
 "nbformat": 4,
 "nbformat_minor": 4
}
